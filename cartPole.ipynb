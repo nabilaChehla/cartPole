{
  "cells": [
    {
      "cell_type": "markdown",
      "metadata": {
        "id": "UpjN3YyTglEq"
      },
      "source": [
        "# <span style=\"color:#873260\">`Cart and Pole Game` </span>: \n",
        "\n",
        "This environment corresponds to the version of the cart-pole problem described by Barto, Sutton, and Anderson in “Neuronlike Adaptive Elements That Can Solve Difficult Learning Control Problem”. A pole is attached by an un-actuated joint to a cart, which moves along a frictionless track. The pendulum is placed upright on the cart and the goal is to balance the pole by applying forces in the left and right direction on the cart.\n",
        "\n",
        "## <span style=\"color:#873260\">Action space</span> :\n",
        "The action is a ndarray with shape (1,) which can take values {0, 1} indicating the direction of the fixed force the cart is pushed with ( right or left)\n",
        "\n",
        "## <span style=\"color:#873260\">Observation space</span> :\n",
        "The observation is a ndarray with shape (4,) with the values corresponding to the following :\n",
        "\n",
        "(Cart Position, Cart Velocity, Pole Angle, Pole Angular Velocity)\n",
        "\n",
        "## <span style=\"color:#873260\">The reward</span> :\n",
        "In the CartPole environment of OpenAI Gym, the reward is typically +1 for each time step in which the pole is kept upright. The goal is to accumulate as much reward as possible by maintaining the pole in a balanced position over a certain period. The episode is considered \"solved\" when the average reward over 100 episodes reaches 195 or higher.\n",
        "<center>\n",
        "<img src='https://static.packt-cdn.com/products/9781789345803/graphics/assets/9170409d-15f1-453b-816a-6f601a89fcf2.png'/>\n",
        "\n",
        "</center>\n"
      ]
    },
    {
      "cell_type": "code",
      "execution_count": 22,
      "metadata": {
        "execution": {
          "iopub.execute_input": "2022-03-21T17:35:06.8363Z",
          "iopub.status.busy": "2022-03-21T17:35:06.835826Z",
          "iopub.status.idle": "2022-03-21T17:35:07.628067Z",
          "shell.execute_reply": "2022-03-21T17:35:07.62726Z",
          "shell.execute_reply.started": "2022-03-21T17:35:06.836203Z"
        },
        "id": "sVeo5mKQiwZm",
        "trusted": true
      },
      "outputs": [],
      "source": [
        "import pygame\n",
        "import pyglet\n",
        "\n",
        "import math\n",
        "import random\n",
        "from typing import Text, Dict, List, NamedTuple, Tuple, Optional, Union\n",
        "from collections import namedtuple\n",
        "from itertools import count\n",
        "from PIL import Image\n",
        "\n",
        "import gym\n",
        "import numpy as np\n",
        "import matplotlib\n",
        "import matplotlib.pyplot as plt\n",
        "from tqdm.auto import trange\n",
        "\n",
        "import torch\n",
        "import torch.nn as nn\n",
        "import torch.optim as optim\n",
        "import torch.nn.functional as F\n",
        "import torchvision.transforms as T\n",
        "from IPython import display"
      ]
    },
    {
      "cell_type": "markdown",
      "metadata": {},
      "source": [
        "# Define our Deep Reinforcement<span style=\"color:#873260\"> Neural Network</span> model : "
      ]
    },
    {
      "cell_type": "code",
      "execution_count": 23,
      "metadata": {
        "execution": {
          "iopub.execute_input": "2022-03-21T17:35:07.762594Z",
          "iopub.status.busy": "2022-03-21T17:35:07.761847Z",
          "iopub.status.idle": "2022-03-21T17:35:07.773463Z",
          "shell.execute_reply": "2022-03-21T17:35:07.772774Z",
          "shell.execute_reply.started": "2022-03-21T17:35:07.762556Z"
        },
        "id": "dYuzYQoYmfqf",
        "trusted": true
      },
      "outputs": [],
      "source": [
        "class DQN(nn.Module):\n",
        "    def __init__(self, num_state_features):\n",
        "        # The default initialization method in PyTorch is often Xavier/Glorot initialization for linear layers.\n",
        "        super().__init__()\n",
        "        self.fc1 = nn.Linear(in_features=num_state_features,\n",
        "                             out_features=32)\n",
        "        self.fc2 = nn.Linear(in_features=32,\n",
        "                             out_features=64)\n",
        "        self.fc3 = nn.Linear(in_features=64,\n",
        "                             out_features=128)\n",
        "        self.out = nn.Linear(in_features=128,\n",
        "                             out_features=2) \n",
        "        \n",
        "\n",
        "    def forward(self, t):\n",
        "        # define our forward passs : \n",
        "        t = F.relu(self.fc1(t))\n",
        "        t = F.relu(self.fc2(t))\n",
        "        t = F.relu(self.fc3(t))\n",
        "        t = self.out(t)\n",
        "        return t"
      ]
    },
    {
      "cell_type": "markdown",
      "metadata": {
        "id": "-snawpOGo-Xd"
      },
      "source": [
        "# define our<span style=\"color:#873260\"> Rplay Memory</span> : \n",
        "To enable more stable and efficient learning by breaking temporal correlations, improving data efficiency, and allowing the agent to learn from a diverse set of experiences."
      ]
    },
    {
      "cell_type": "code",
      "execution_count": 24,
      "metadata": {
        "execution": {
          "iopub.execute_input": "2022-03-21T17:35:07.796728Z",
          "iopub.status.busy": "2022-03-21T17:35:07.796286Z",
          "iopub.status.idle": "2022-03-21T17:35:07.807965Z",
          "shell.execute_reply": "2022-03-21T17:35:07.807173Z",
          "shell.execute_reply.started": "2022-03-21T17:35:07.796694Z"
        },
        "id": "lnN44WYupz7I",
        "scrolled": true,
        "trusted": true
      },
      "outputs": [],
      "source": [
        "Experience = namedtuple(\n",
        "    'Experience',\n",
        "    ('state', 'action', 'next_state', 'reward')\n",
        ")\n",
        "\n",
        "\n",
        "class ReplayMemeory:\n",
        "    def __init__(self, capacity):\n",
        "        self.capacity = capacity\n",
        "        self.memory = []\n",
        "        self.push_count = 0\n",
        "\n",
        "    def push(self, experience) -> None:\n",
        "        if len(self.memory) < self.capacity:\n",
        "            self.memory.append(experience)\n",
        "        else:\n",
        "            self.memory[self.push_count % self.capacity] = experience\n",
        "            self.push_count += 1\n",
        "\n",
        "    def sample(self, batch_size: int):\n",
        "        \"\"\"Sample is equal to the `batch_size` sent to this function`\"\"\"\n",
        "        return random.sample(self.memory, batch_size)\n",
        "\n",
        "    def can_provide_sample(self, batch_size: int) -> bool:\n",
        "        return len(self.memory) >= batch_size"
      ]
    },
    {
      "cell_type": "markdown",
      "metadata": {
        "id": "wetBpDnqts6F"
      },
      "source": [
        "## Define our<span style=\"color:#873260\"> Epsilon Greedy Strategy</span> so we can to either <span style=\"color:#873260\"> Explore/Exploite </span> the envirment : "
      ]
    },
    {
      "cell_type": "code",
      "execution_count": 25,
      "metadata": {
        "execution": {
          "iopub.execute_input": "2022-03-21T17:35:07.809754Z",
          "iopub.status.busy": "2022-03-21T17:35:07.809496Z",
          "iopub.status.idle": "2022-03-21T17:35:07.817266Z",
          "shell.execute_reply": "2022-03-21T17:35:07.81644Z",
          "shell.execute_reply.started": "2022-03-21T17:35:07.809721Z"
        },
        "id": "79LdYvfGt0JZ",
        "trusted": true
      },
      "outputs": [],
      "source": [
        "class EpsilonGreedyStrategy:\n",
        "    def __init__(self, start, end, decay):\n",
        "        self.start = start\n",
        "        self.end = end\n",
        "        self.decay = decay\n",
        "\n",
        "    def get_exploration_rate(self, current_step: int) -> float:\n",
        "        return self.end + (self.start - self.end) *  math.exp(-1. * current_step * self.decay)"
      ]
    },
    {
      "cell_type": "markdown",
      "metadata": {
        "id": "PWU8t6-0vAmC"
      },
      "source": [
        "# Define our<span style=\"color:#873260\"> Agent</span> class:"
      ]
    },
    {
      "cell_type": "code",
      "execution_count": 26,
      "metadata": {
        "execution": {
          "iopub.execute_input": "2022-03-21T17:35:07.819616Z",
          "iopub.status.busy": "2022-03-21T17:35:07.819115Z",
          "iopub.status.idle": "2022-03-21T17:35:07.830849Z",
          "shell.execute_reply": "2022-03-21T17:35:07.830118Z",
          "shell.execute_reply.started": "2022-03-21T17:35:07.81958Z"
        },
        "id": "DnPV9cVgvPX1",
        "trusted": true
      },
      "outputs": [],
      "source": [
        "class Agent:\n",
        "    def __init__(self, strategy, num_actions, device) -> None:\n",
        "        self.strategy = strategy\n",
        "        self.num_actions = num_actions\n",
        "        self.current_step = 0\n",
        "        self.device = device\n",
        "\n",
        "    def select_action(self, state, policy_net) -> float:\n",
        "        epsilon_rate = self.strategy.get_exploration_rate(self.current_step)\n",
        "        self.current_step += 1\n",
        "\n",
        "        # select an action\n",
        "        if epsilon_rate > random.random(): \n",
        "            action = random.randrange(self.num_actions)\n",
        "            return torch.tensor([action]).to(device=self.device) # explore\n",
        "        else:\n",
        "            with torch.no_grad(): # teurn off the gradient, \n",
        "                return policy_net(state).unsqueeze(dim=0).argmax(dim=1).to(device=self.device) # exploit"
      ]
    },
    {
      "cell_type": "markdown",
      "metadata": {
        "id": "g94_HjJ8iyiO"
      },
      "source": [
        "# Define a class that handels<span style=\"color:#873260\"> Environment </span> : \n"
      ]
    },
    {
      "cell_type": "code",
      "execution_count": 27,
      "metadata": {
        "execution": {
          "iopub.execute_input": "2022-03-21T17:35:07.835432Z",
          "iopub.status.busy": "2022-03-21T17:35:07.834823Z",
          "iopub.status.idle": "2022-03-21T17:35:07.868098Z",
          "shell.execute_reply": "2022-03-21T17:35:07.867288Z",
          "shell.execute_reply.started": "2022-03-21T17:35:07.835392Z"
        },
        "id": "D5a-5mRIi2MK",
        "trusted": true
      },
      "outputs": [],
      "source": [
        "class CartPoleEnvManager:\n",
        "    def __init__(self, device) -> None:\n",
        "        self.device = device\n",
        "        self.env = gym.make('CartPole-v1').unwrapped \n",
        "        self.env.reset() # reset the environment to get the initial observations\n",
        "        self.current_state = None\n",
        "        self.done = False\n",
        "\n",
        "    def reset(self) -> None:\n",
        "        self.current_state = self.env.reset()\n",
        "\n",
        "    def close(self) -> None:\n",
        "        self.env.close()\n",
        "\n",
        "    def render(self, mode='human'):\n",
        "        return self.env.render(mode)\n",
        "\n",
        "    def display(self):\n",
        "        return self.env.display()\n",
        "\n",
        "    def num_actions_available(self):\n",
        "        return self.env.action_space.n\n",
        "\n",
        "    def take_action(self, action: torch.Tensor) -> torch.Tensor:\n",
        "        self.current_state, reward, self.done, _ = self.env.step(action.item())\n",
        "        return torch.tensor([reward], device=self.device)\n",
        "\n",
        "    def get_state(self):\n",
        "        if self.done:\n",
        "            return torch.zeros_like(\n",
        "              torch.tensor(self.current_state, device=self.device)\n",
        "            ).float()\n",
        "        else:\n",
        "            return torch.tensor(self.current_state, device=self.device).float()\n",
        "\n",
        "    def num_state_features(self):\n",
        "        return self.env.observation_space.shape[0]\n"
      ]
    },
    {
      "cell_type": "code",
      "execution_count": 28,
      "metadata": {
        "execution": {
          "iopub.execute_input": "2022-03-21T17:35:10.920751Z",
          "iopub.status.busy": "2022-03-21T17:35:10.920044Z",
          "iopub.status.idle": "2022-03-21T17:35:10.928311Z",
          "shell.execute_reply": "2022-03-21T17:35:10.927326Z",
          "shell.execute_reply.started": "2022-03-21T17:35:10.920713Z"
        },
        "id": "m4q07gs6AzNl",
        "trusted": true
      },
      "outputs": [],
      "source": [
        "def extract_tensors(experiences: NamedTuple) -> Tuple[torch.TensorType]:\n",
        "    # Convert batch of Experiences to Experience of batches\n",
        "    batch = Experience(*zip(*experiences))\n",
        "    t_states = torch.stack(batch.state)\n",
        "    t_actions = torch.cat(batch.action)\n",
        "    t_next_state = torch.stack(batch.next_state)\n",
        "    t_rewards = torch.cat(batch.reward)\n",
        "    return (t_states,\n",
        "            t_actions,\n",
        "            t_next_state,\n",
        "            t_rewards)"
      ]
    },
    {
      "cell_type": "markdown",
      "metadata": {
        "id": "2WeQoGE3FQMv"
      },
      "source": [
        "## QValues Class for<span style=\"color:#873260\">  Calculating Current and Next Q-Values</span> in Deep Q-Learning:\n",
        "We need current Q-values and next Q-values to use in the Bellman equation and calculate the loss."
      ]
    },
    {
      "cell_type": "code",
      "execution_count": 29,
      "metadata": {
        "execution": {
          "iopub.execute_input": "2022-03-21T17:35:10.956716Z",
          "iopub.status.busy": "2022-03-21T17:35:10.956166Z",
          "iopub.status.idle": "2022-03-21T17:35:10.970415Z",
          "shell.execute_reply": "2022-03-21T17:35:10.969597Z",
          "shell.execute_reply.started": "2022-03-21T17:35:10.956676Z"
        },
        "id": "aSjONoyTFUGj",
        "trusted": true
      },
      "outputs": [],
      "source": [
        "class QValues:\n",
        "    device = torch.device('cuda' if torch.cuda.is_available() else 'cpu')\n",
        "\n",
        "    @staticmethod\n",
        "    def get_current(policy_net, states, actions):\n",
        "        return policy_net(states).gather(dim=1, index=actions.unsqueeze(-1))\n",
        "\n",
        "    @staticmethod\n",
        "    def get_next(target_net, next_states):\n",
        "       \n",
        "        final_states_location = next_states.flatten(start_dim=1).max(dim=1)[0].eq(0).type(torch.bool)\n",
        "        non_final_states_locations = (final_states_location == False)\n",
        "        non_final_states = next_states[non_final_states_locations]\n",
        "        batch_size = next_states.shape[0]\n",
        "        values = torch.zeros(batch_size).to(QValues.device)\n",
        "        values[non_final_states_locations] = target_net(non_final_states).max(dim=1)[0].detach()\n",
        "        return values"
      ]
    },
    {
      "cell_type": "markdown",
      "metadata": {
        "id": "OXY0tn3LAuPd"
      },
      "source": [
        "## A function to plot<span style=\"color:#873260\"> Agent Performance Over Time</span>:\n",
        "plot the duration of the game for each episode\n"
      ]
    },
    {
      "cell_type": "markdown",
      "metadata": {
        "id": "s9OXFQKUAi-S"
      },
      "source": [
        "To solve cart and pole, the average reward must be greater than or equal to `195` over <u>`100` consecutive episodes</u>. Recall that our agent gets a reward of +1 for each step it takes that doesn't end the episode. So, the duration of an episode measured in timesteps is exactly equivalent to the reward for that episode."
      ]
    },
    {
      "cell_type": "code",
      "execution_count": 30,
      "metadata": {
        "execution": {
          "iopub.execute_input": "2022-03-21T17:35:10.987898Z",
          "iopub.status.busy": "2022-03-21T17:35:10.987268Z",
          "iopub.status.idle": "2022-03-21T17:35:10.999732Z",
          "shell.execute_reply": "2022-03-21T17:35:10.998916Z",
          "shell.execute_reply.started": "2022-03-21T17:35:10.98784Z"
        },
        "id": "1NLbnvPn2mnR",
        "trusted": true
      },
      "outputs": [],
      "source": [
        "from sysconfig import is_python_build\n",
        "\n",
        "\n",
        "def plot(values,moving_avg_period):\n",
        "    plt.figure(2)\n",
        "    plt.clf()\n",
        "    plt.title(\"Training ...\")\n",
        "    plt.xlabel('Episodes')\n",
        "    plt.ylabel('Duration / reward')\n",
        "    plt.plot(values)\n",
        "\n",
        "    moving_avg = get_moving_average(moving_avg_period,values)\n",
        "    plt.plot(moving_avg)\n",
        "    plt.pause(0.001)\n",
        "    print(\"Episode\",len(values),\"\\n\",moving_avg_period,\"episode moving avg: \",moving_avg[-1])\n",
        "    if is_python_build: display.clear_output(wait=True)\n",
        "\n",
        "\n",
        "def get_moving_average(period, values):\n",
        "    values = torch.tensor(values, dtype=torch.float)\n",
        "    if len(values) >=period:\n",
        "        moving_avg = values.unfold(dimension = 0 , size = period , step = 1).mean(dim=1).flatten(start_dim=0)\n",
        "        moving_avg = torch.cat((torch.zeros(period-1),moving_avg))\n",
        "        return moving_avg.numpy()\n",
        "    \n",
        "    else :\n",
        "        moving_avg = torch.zeros(len(values))\n",
        "        return moving_avg.numpy()\n",
        "\n"
      ]
    },
    {
      "cell_type": "markdown",
      "metadata": {
        "id": "c_7rdM_Au4ei"
      },
      "source": [
        "## Initialization and Choosing the Hyperparameters:"
      ]
    },
    {
      "cell_type": "code",
      "execution_count": 31,
      "metadata": {
        "execution": {
          "iopub.execute_input": "2022-03-21T17:35:11.414547Z",
          "iopub.status.busy": "2022-03-21T17:35:11.414246Z",
          "iopub.status.idle": "2022-03-21T17:35:11.420958Z",
          "shell.execute_reply": "2022-03-21T17:35:11.420216Z",
          "shell.execute_reply.started": "2022-03-21T17:35:11.414507Z"
        },
        "id": "Bx1YHqkUtYY4",
        "trusted": true
      },
      "outputs": [],
      "source": [
        "batch_size = 256\n",
        "gamma = 0.999 # --> discounted rate\n",
        "eps_start = 1 # --> Epsilon start\n",
        "eps_end = 0.01 # --> Epsilon end\n",
        "eps_decay = 0.001 # --> rate of Epsilon decay\n",
        "target_update = 10 # --> For every 10 episode, we're going to update\n",
        "                         ## the target network with the policy network weights\n",
        "#  Initialize replay memory capacity and learning rate\n",
        "memory_size = 100000\n",
        "lr = 0.001\n",
        "num_episodes = 1000\n",
        "\n",
        "# Object created : \n",
        "device = torch.device('cuda' if torch.cuda.is_available() else 'cpu')\n",
        "em = CartPoleEnvManager(device)\n",
        "strategy = EpsilonGreedyStrategy(eps_start, eps_end, eps_decay)\n",
        "agent = Agent(strategy, em.num_actions_available(), device)\n",
        "memory = ReplayMemeory(memory_size)\n",
        "\n",
        "policy_net = DQN(em.num_state_features()).to(device)\n",
        "target_net = DQN(em.num_state_features()).to(device)\n",
        "\n",
        "# init target betwork : \n",
        "target_net.load_state_dict(policy_net.state_dict())\n",
        "target_net.eval()\n",
        "\n",
        "\n",
        "# init optimizer : \n",
        "optimizer = optim.Adam(params=policy_net.parameters(), lr=lr)"
      ]
    },
    {
      "cell_type": "markdown",
      "metadata": {
        "id": "IkrDRT1hx59h"
      },
      "source": [
        "# <span style=\"color:#873260\">Training the agent</span> : \n",
        "## The episode ends if any one of the following occurs:\n",
        "\n",
        "Termination: Pole Angle is greater than ±12°\n",
        "Termination: Cart Position is greater than ±2.4 (center of the cart reaches the edge of the display)\n",
        "the network solves the environment by reaching the `100-episode` average reward of 195 or higher."
      ]
    },
    {
      "cell_type": "code",
      "execution_count": 32,
      "metadata": {
        "execution": {
          "iopub.execute_input": "2022-03-21T17:35:11.475037Z",
          "iopub.status.busy": "2022-03-21T17:35:11.474198Z",
          "iopub.status.idle": "2022-03-21T17:42:36.08021Z",
          "shell.execute_reply": "2022-03-21T17:42:36.079458Z",
          "shell.execute_reply.started": "2022-03-21T17:35:11.475Z"
        },
        "id": "-kUpLzN-x9ZM",
        "trusted": true
      },
      "outputs": [
        {
          "data": {
            "image/png": "[encoded data removed]",
            "text/plain": [
              "<Figure size 640x480 with 1 Axes>"
            ]
          },
          "metadata": {},
          "output_type": "display_data"
        },
        {
          "name": "stdout",
          "output_type": "stream",
          "text": [
            "Episode 139 \n",
            " 100 episode moving avg:  195.18\n"
          ]
        }
      ],
      "source": [
        "episode_duration = []\n",
        "\n",
        "# 4. For each episode:\n",
        "for episode in range(num_episodes):\n",
        "    em.reset()\n",
        "    # (4.1) Initialize the starting state.\n",
        "    state = em.get_state()\n",
        "    # (4.2) For each time step:\n",
        "    for timestep in count():\n",
        "        em.render()\n",
        "        # Agent Select an action.\n",
        "        action = agent.select_action(state, policy_net)\n",
        "        # Observe reward and next state.\n",
        "        reward = em.take_action(action)\n",
        "        next_states = em.get_state()\n",
        "        #  Store experience in replay memory.\n",
        "        memory.push(Experience(state, action, next_states, reward))\n",
        "        # Transition to next state \n",
        "        state = next_states\n",
        "\n",
        "        #  Sample random batch from replay memory if possible.\n",
        "        if memory.can_provide_sample(batch_size):\n",
        "            experiences = memory.sample(batch_size)\n",
        "            #  Preprocess states from batch.\n",
        "            states, actions, next_states, rewards = extract_tensors(experiences)\n",
        "            # Get the current Q-values of the policy net and the next Q-values for the target nework\n",
        "            current_q_values = QValues.get_current(policy_net, states, actions)\n",
        "            next_q_values = QValues.get_next(target_net, next_states)\n",
        "            # calculate the target Q-values by the Bellman Optimality Equation\n",
        "            target_q_values = rewards + (gamma * next_q_values)\n",
        "\n",
        "            # (4.2.8) Calculate loss between output Q-values and target Q-values.\n",
        "            loss = F.mse_loss(current_q_values, target_q_values.unsqueeze(1))\n",
        "\n",
        "            # Gradient descent updates weights in the policy network to minimize loss.\n",
        "            ## Calculate the gradients of the loss\n",
        "            loss.backward()\n",
        "            ## Update the network with the gradients\n",
        "            optimizer.step()\n",
        "            ## Reset the gradients weights & biases before back propagation\n",
        "            optimizer.zero_grad()\n",
        "\n",
        "        # Check if the agent took the last action in the episode\n",
        "        if em.done:\n",
        "            episode_duration.append(timestep)\n",
        "            plot(episode_duration, 100) # plot the avrege duration of the last 100 epsides\n",
        "            break\n",
        "\n",
        "    if episode % target_update == 0:\n",
        "        target_net.load_state_dict(policy_net.state_dict())\n",
        "\n",
        "    # the network solves the environment by reaching the 100-episode average reward of 195 or higher.\n",
        "    if get_moving_average(100, episode_duration)[-1] >= 195:\n",
        "        break\n",
        "\n",
        "em.close()"
      ]
    }
  ],
  "metadata": {
    "colab": {
      "name": "DQN - OpenAI Gym CartPole with PyTorch",
      "provenance": []
    },
    "kernelspec": {
      "display_name": "Python 3",
      "language": "python",
      "name": "python3"
    },
    "language_info": {
      "codemirror_mode": {
        "name": "ipython",
        "version": 3
      },
      "file_extension": ".py",
      "mimetype": "text/x-python",
      "name": "python",
      "nbconvert_exporter": "python",
      "pygments_lexer": "ipython3",
      "version": "3.10.9"
    }
  },
  "nbformat": 4,
  "nbformat_minor": 0
}
