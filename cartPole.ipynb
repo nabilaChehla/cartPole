{
 "cells": [
  {
   "cell_type": "code",
   "execution_count": 27,
   "id": "a4f1866b",
   "metadata": {},
   "outputs": [],
   "source": [
    "import pygame\n",
    "import pyglet\n",
    "import torch\n",
    "import numpy as np \n",
    "import  gym\n",
    "from PIL import Image\n",
    "from collections import namedtuple\n",
    "\n",
    "import torch.nn as nn \n",
    "import torch.optim as optim\n",
    "import torch.nn.functional as F \n",
    "import torchvision.transforms as T \n",
    "import random\n",
    "from itertools import count\n",
    "import math \n",
    "from IPython.display import clear_output\n",
    "\n",
    "import matplotlib.pyplot as plt \n",
    "\n"
   ]
  },
  {
   "cell_type": "markdown",
   "id": "1c092473",
   "metadata": {},
   "source": [
    "# Define our Deep Reinforcement<span style=\"color:#873260\"> Neural Network</span> model : "
   ]
  },
  {
   "cell_type": "code",
   "execution_count": 28,
   "id": "b3cdec99",
   "metadata": {},
   "outputs": [],
   "source": [
    "# DQN is a child class of nn.Module pre buit class in pytorch for NN \n",
    "\n",
    "class DQN (nn.Module):       \n",
    "    def __init__(self, image_h, image_w):\n",
    "        super(DQN, self).__init__()\n",
    "        # Xavier initialization : \n",
    "        self.fc1 = nn.Linear(in_features= image_h*image_w*3 , out_features= 24 )\n",
    "        self.fc2 = nn.Linear(in_features= 24  , out_features= 32)\n",
    "        self.out = nn.Linear (in_features= 32 , out_features= 2 )\n",
    "    # specifying how input data is processed through the layers of the model to produce an output\n",
    "    def forward(self , t ):\n",
    "        t = torch.flatten(t, start_dim=1)\n",
    "        t = F.relu (self.fc1(t)) \n",
    "        t = F.relu (self.fc2(t))\n",
    "        t = self.out(t)\n",
    "        return t "
   ]
  },
  {
   "cell_type": "markdown",
   "id": "d72206e9",
   "metadata": {},
   "source": [
    "# define our<span style=\"color:#873260\"> Rplay Memory</span> : \n",
    "To enable more stable and efficient learning by breaking temporal correlations, improving data efficiency, and allowing the agent to learn from a diverse set of experiences."
   ]
  },
  {
   "cell_type": "code",
   "execution_count": 31,
   "id": "12623351",
   "metadata": {},
   "outputs": [],
   "source": [
    "Experiance = namedtuple (\n",
    " 'Experiance', \n",
    " ('state', 'action' ,'reward' ,'new_state'  )\n",
    ")\n",
    "\n",
    "\n",
    "class ReplayMemory ():\n",
    "    def __init__(self , capacity):\n",
    "        self.capacity = capacity\n",
    "        self.memory = []\n",
    "        self.count = 0 \n",
    "\n",
    "    def push_experiance (self, experiance):\n",
    "        if( len(self.memory) < self.capacity):\n",
    "            self.memory.append(experiance)\n",
    "            self.count += 1 \n",
    "        else :\n",
    "            self.memory[self.count % self.capacity] = experiance\n",
    "            self.count += 1 \n",
    "\n",
    "    def sample(self,batch_size):\n",
    "            return random.sample(self.memory, batch_size)\n",
    "      \n",
    "    def can_provide_simple (self,batch_size):\n",
    "            return (len(self.memory)>= batch_size)\n"
   ]
  },
  {
   "cell_type": "markdown",
   "id": "eccf5d8e",
   "metadata": {},
   "source": [
    "## Define our<span style=\"color:#873260\"> Epsilon Greedy Strategy</span> so we can to either <span style=\"color:#873260\"> Explore/Exploite </span> the envirment : "
   ]
  },
  {
   "cell_type": "code",
   "execution_count": 32,
   "id": "32134636",
   "metadata": {},
   "outputs": [],
   "source": [
    "class EpsilonGreedyStrategy():\n",
    "    def __init__(self, epsilon_max , epsilon_min , epsilon_decay):\n",
    "        self.epsilon_max = epsilon_max # start \n",
    "        self.epsilon_min = epsilon_min  # end\n",
    "        self.decay = epsilon_decay\n",
    "\n",
    "\n",
    "    def getExplorationRate(self, current_step):\n",
    "        return self.epsilon_min + (self.epsilon_max - self.epsilon_min)*np.exp(-self.decay*current_step)\n"
   ]
  },
  {
   "cell_type": "markdown",
   "id": "59c79651",
   "metadata": {},
   "source": [
    "# Define our<span style=\"color:#873260\"> Agent</span> class:"
   ]
  },
  {
   "cell_type": "code",
   "execution_count": 33,
   "id": "1d25d09f",
   "metadata": {},
   "outputs": [],
   "source": [
    "class Agent():\n",
    "    def __init__(self,strategy,num_actions, device):\n",
    "        self.currant_step = 0 \n",
    "        self.strategy = strategy\n",
    "        self.num_actions = num_actions\n",
    "        self.device= device\n",
    "        \n",
    "    def selectAction(self, policy_nn , state):\n",
    "        rate = self.strategy.getExplorationRate(self.currant_step)\n",
    "        self.currant_step += 1 \n",
    "        if(rate > random.random()):\n",
    "             # exploration \n",
    "            action = random.randrange(self.num_actions)\n",
    "            return torch.tensor([action]).to(self.device)\n",
    "        else:# exploitation\n",
    "            with torch.no_grad(): # turn off the gradient since we are using the nn for training\n",
    "                return policy_nn(state).argmax(dim = 1 ).to(self.device)"
   ]
  },
  {
   "cell_type": "markdown",
   "id": "da2c2569",
   "metadata": {},
   "source": [
    "# Define a class that handels<span style=\"color:#873260\"> Environment and image preprocessing</span> : "
   ]
  },
  {
   "cell_type": "code",
   "execution_count": 34,
   "id": "d811e260",
   "metadata": {},
   "outputs": [],
   "source": [
    "class CartPoleEnvManager ():\n",
    "    def __init__(self,device):\n",
    "        self.device = device \n",
    "        self.env = gym.make(\"CartPole-v1\").unwrapped\n",
    "        self.env.reset()\n",
    "        self.current_screen = None\n",
    "        self.done= False \n",
    "\n",
    "    def reset(self):\n",
    "        self.env.reset()\n",
    "        self.current_screen = None\n",
    "\n",
    "    def close(self):\n",
    "        self.env.close()\n",
    "\n",
    "    def render(self,mode='human'):\n",
    "        screen = self.env.render(mode)\n",
    "        return screen\n",
    "    \n",
    "    def numActionsAvailible(self):\n",
    "        return self.env.action_space.n\n",
    "    \n",
    "    def takeAction (self, action):\n",
    "          new_state, reward, done , info = self.env.step(action.item()) # .item to transfor the tensor to an action\n",
    "          self.done = done\n",
    "          return torch.tensor([reward],device=self.device)\n",
    "    \n",
    "    def justStarting (self):\n",
    "        return self.current_screen is None\n",
    "    \n",
    "    def getNumState (self):\n",
    "        return self.env.observation_space.n\n",
    "\n",
    "    def getState(self):\n",
    "        if self.justStarting() or self.done:\n",
    "            self.current_screen = self.get_preprocessed_screen()\n",
    "            black_screen = torch.zeros_like(self.current_screen)\n",
    "            return black_screen\n",
    "        \n",
    "\n",
    "        else: \n",
    "            s1 = self.current_screen\n",
    "            s2 = self.get_preprocessed_screen()\n",
    "            self.current_screen = s2 \n",
    "            return s2 - s1 \n",
    "        \n",
    "    def getScreenHeight(self):\n",
    "        return  self.get_preprocessed_screen().shape[2]\n",
    "    \n",
    "    def getScreenWidth(self):\n",
    "        return  self.get_preprocessed_screen().shape[3]\n",
    "    \n",
    "\n",
    "    def cropScreen(self, screen ):\n",
    "        screen_height = screen.shape[1]\n",
    "        top = int (0.4*screen_height)\n",
    "        buttom = int (0.8 * screen_height)\n",
    "        screen = screen[:, top : buttom ,: ]\n",
    "        return screen\n",
    "    \n",
    "    def get_preprocessed_screen(self):\n",
    "        screen = self.render(\"rgb_array\").transpose((2, 0 , 1))\n",
    "        screen = self.cropScreen(screen)\n",
    "        return self.transform_screen_data(screen)\n",
    "    \n",
    "    def transform_screen_data(self , screen):\n",
    "        # convert to float , rescale , convert to tensor\n",
    "        screen = np.ascontiguousarray(screen, dtype=np.float32)/255\n",
    "        screen = torch.from_numpy(screen)\n",
    "        \n",
    "        resize = T.Compose([\n",
    "            T.ToPILImage(),\n",
    "            T.Resize((40,90)),\n",
    "            T.ToTensor()\n",
    "        ])\n",
    "\n",
    "        return resize(screen).unsqueeze(0).to(self.device)\n",
    "    \n",
    "    "
   ]
  },
  {
   "cell_type": "code",
   "execution_count": 35,
   "id": "5b052924",
   "metadata": {},
   "outputs": [],
   "source": [
    "def extract_tensors(experiences):\n",
    "    batch = Experiance(*zip(*experiences))\n",
    "    t1 = torch.cat(batch.state)\n",
    "    t2 = torch.cat(batch.action)\n",
    "    t3 = torch.cat(batch.reward )\n",
    "    t4 = torch.cat(batch.new_state)\n",
    "\n",
    "    return (t1,t2,t3,t4)"
   ]
  },
  {
   "cell_type": "markdown",
   "id": "8a00986c",
   "metadata": {},
   "source": [
    "## A function to plot<span style=\"color:#873260\"> Agent Performance Over Time</span>:\n",
    "plot the duration of the game for each episode\n"
   ]
  },
  {
   "cell_type": "code",
   "execution_count": 36,
   "id": "2b126388",
   "metadata": {},
   "outputs": [],
   "source": [
    "from sysconfig import is_python_build\n",
    "\n",
    "\n",
    "def plot(values,moving_avg_period):\n",
    "    plt.figure(2)\n",
    "    plt.clf()\n",
    "    plt.title(\"Training ...\")\n",
    "    plt.xlabel('Episodes')\n",
    "    plt.ylabel('Duration')\n",
    "    plt.plot(values)\n",
    "\n",
    "    moving_avg = get_moving_average(moving_avg_period,values)\n",
    "    plt.plot(moving_avg)\n",
    "    plt.pause(0.001)\n",
    "    print(\"Episode\",len(values),\"\\n\",moving_avg_period,\"episode moving avg: \",moving_avg[-1])\n",
    "    if is_python_build:\n",
    "        clear_output(wait=True)\n",
    "\n",
    "\n",
    "def get_moving_average(period, values):\n",
    "    values = torch.tensor(values, dtype=torch.float)\n",
    "    if len(values) >=period:\n",
    "        moving_avg = values.unfold(dimension = 0 , size = period , step = 1).mean(dim=1).flatten(start_dim=0)\n",
    "        moving_avg = torch.cat((torch.zeros(period-1),moving_avg))\n",
    "        return moving_avg.numpy()\n",
    "    \n",
    "    else :\n",
    "        moving_avg = torch.zeros(len(values))\n",
    "        return moving_avg.numpy()\n"
   ]
  },
  {
   "cell_type": "markdown",
   "id": "65508bf3",
   "metadata": {},
   "source": [
    "## QValues Class for<span style=\"color:#873260\">  Calculating Current and Next Q-Values</span> in Deep Q-Learning:\n",
    "We need current Q-values and next Q-values to use in the Bellman equation and calculate the loss."
   ]
  },
  {
   "cell_type": "code",
   "execution_count": 37,
   "id": "0c0deba3",
   "metadata": {},
   "outputs": [],
   "source": [
    "class QValues():\n",
    "    device = \"cpu\"\n",
    "    @staticmethod\n",
    "    def get_current(policy_nn,states,actions):\n",
    "        return policy_nn(states).gather(dim = 1,index=actions.unsqueeze(-1))\n",
    "    \n",
    "    @staticmethod\n",
    "    def get_next(target_nn,nextStates):\n",
    "        final_state_locations = nextStates.flatten(start_dim=1).max(dim=1)[0].eq(0).type(torch.bool)\n",
    "        non_final_state_locations = (final_state_locations == False)\n",
    "        non_final_states = nextStates[non_final_state_locations]\n",
    "        \n",
    "        \n",
    "        batch_size = nextStates.shape[0]\n",
    "        values = torch.zeros(batch_size).to(QValues.device)\n",
    "        values[non_final_state_locations] = target_nn(non_final_states).max(dim=1)[0].detach()\n",
    "        return values\n"
   ]
  },
  {
   "cell_type": "markdown",
   "id": "02b825ef",
   "metadata": {},
   "source": [
    "## Initialization and Choosing the Hyperparameters:"
   ]
  },
  {
   "cell_type": "code",
   "execution_count": 38,
   "id": "212c8c93",
   "metadata": {},
   "outputs": [],
   "source": [
    "batch_size =256\n",
    "discount_rate =0.999\n",
    "epsilon_max = 1.0\n",
    "epsilon_min = 0.01\n",
    "epsilon_decay = 0.001\n",
    "target_update = 10\n",
    "memory_size = 100000\n",
    "learning_rate = 0.001\n",
    "num_episodes = 1000\n",
    "\n",
    "device= \"cpu\"\n",
    "em = CartPoleEnvManager(device)\n",
    "strategy = EpsilonGreedyStrategy(epsilon_max, epsilon_min, epsilon_decay)\n",
    "agent = Agent(strategy, em.numActionsAvailible() , device)\n",
    "replayMemory = ReplayMemory(memory_size)\n",
    "policy_nn = DQN(em.getScreenHeight(),em.getScreenWidth()).to(device)\n",
    "target_nn = DQN(em.getScreenHeight(),em.getScreenWidth()).to(device)\n",
    "target_nn.load_state_dict(policy_nn.state_dict())\n",
    "target_nn.eval()   # target_nn is not trainble\n",
    "optimizer = optim.Adam(params=policy_nn.parameters(), lr= learning_rate)\n"
   ]
  },
  {
   "cell_type": "markdown",
   "id": "7c12a206",
   "metadata": {},
   "source": [
    "# Training the agent : "
   ]
  },
  {
   "cell_type": "code",
   "execution_count": 39,
   "id": "d9310b7f",
   "metadata": {},
   "outputs": [
    {
     "data": {
      "image/png": "[encoded data removed]",
      "text/plain": [
       "<Figure size 640x480 with 1 Axes>"
      ]
     },
     "metadata": {},
     "output_type": "display_data"
    },
    {
     "name": "stdout",
     "output_type": "stream",
     "text": [
      "Episode 1000 \n",
      " 100 episode moving avg:  99.58\n"
     ]
    }
   ],
   "source": [
    "episode_durations = []\n",
    "for episode in range(num_episodes):\n",
    "    em.reset()\n",
    "    state = em.getState()\n",
    "\n",
    "    for timestep in count():\n",
    "        action = agent.selectAction(policy_nn , state )\n",
    "        reward = em.takeAction(action)\n",
    "        nextState = em.getState()\n",
    "\n",
    "        replayMemory.push_experiance(Experiance(state,action,reward,nextState))\n",
    "        state = nextState\n",
    "\n",
    "        if replayMemory.can_provide_simple(batch_size):\n",
    "            experiances = replayMemory.sample(batch_size)\n",
    "            states , actions , rewards , nextStates = extract_tensors(experiances)\n",
    "            current_q_values = QValues.get_current(policy_nn , states , actions)\n",
    "            next_q_values = QValues.get_next(target_nn , nextStates)\n",
    "            target_q_values = (next_q_values * discount_rate) + rewards\n",
    "\n",
    "            loss = F.mse_loss(current_q_values, target_q_values.unsqueeze(1))\n",
    "            optimizer.zero_grad()\n",
    "            loss.backward()\n",
    "            optimizer.step()\n",
    "\n",
    "        if em.done:\n",
    "            episode_durations.append(timestep)\n",
    "            plot(episode_durations, 100)\n",
    "            break\n",
    "    \n",
    "    if episode % target_update ==0 :\n",
    "        target_nn.load_state_dict(policy_nn.state_dict())\n",
    "\n",
    "em.close()\n",
    "\n"
   ]
  }
 ],
 "metadata": {
  "kernelspec": {
   "display_name": "Python 3 (ipykernel)",
   "language": "python",
   "name": "python3"
  },
  "language_info": {
   "codemirror_mode": {
    "name": "ipython",
    "version": 3
   },
   "file_extension": ".py",
   "mimetype": "text/x-python",
   "name": "python",
   "nbconvert_exporter": "python",
   "pygments_lexer": "ipython3",
   "version": "3.10.9"
  },
  "varInspector": {
   "cols": {
    "lenName": 16,
    "lenType": 16,
    "lenVar": 40
   },
   "kernels_config": {
    "python": {
     "delete_cmd_postfix": "",
     "delete_cmd_prefix": "del ",
     "library": "var_list.py",
     "varRefreshCmd": "print(var_dic_list())"
    },
    "r": {
     "delete_cmd_postfix": ") ",
     "delete_cmd_prefix": "rm(",
     "library": "var_list.r",
     "varRefreshCmd": "cat(var_dic_list()) "
    }
   },
   "types_to_exclude": [
    "module",
    "function",
    "builtin_function_or_method",
    "instance",
    "_Feature"
   ],
   "window_display": false
  }
 },
 "nbformat": 4,
 "nbformat_minor": 5
}
